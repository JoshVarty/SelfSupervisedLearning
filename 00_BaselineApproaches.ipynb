{
 "cells": [
  {
   "cell_type": "markdown",
   "metadata": {},
   "source": [
    "## Baseline Approaches"
   ]
  },
  {
   "cell_type": "markdown",
   "metadata": {},
   "source": [
    "In order to make a good comparison between training with pretext weights vs random weights, we should use a strong baseline that's known to give good performance.\n",
    "\n",
    "This approach is taken from: [train_imagenette.py](https://github.com/fastai/fastai2/blob/3faec089e511ee68330dfdc182add8c863df3ecd/nbs/examples/train_imagenette.py)\n",
    "\n",
    "As of January 2020 the [best parameters](https://github.com/fastai/imagenette/blob/58a63175a2c6457650289d32741940d6a7d58fbf/2020-01-train.md) are:\n",
    "\n",
    "```\n",
    "--lr 8e-3 \n",
    "--sqrmom 0.99 \n",
    "--mom 0.95 \n",
    "--eps 1e-6 \n",
    "--bs 64 \n",
    "--opt ranger \n",
    "--sa 1\n",
    "--fp16 1 \n",
    "--arch xse_resnext50 \n",
    "--pool MaxPool\n",
    "```\n"
   ]
  },
  {
   "cell_type": "markdown",
   "metadata": {},
   "source": [
    "In order to save time we're going to use 128x128 images and 5 epochs. This means we should expect an accuracy of ~84.71%."
   ]
  },
  {
   "cell_type": "code",
   "execution_count": 160,
   "metadata": {},
   "outputs": [],
   "source": [
    "import torch\n",
    "\n",
    "from functools import partial\n",
    "from fastprogress import fastprogress\n",
    "\n",
    "from fastai2.layers import MishJit, MaxPool, LabelSmoothingCrossEntropy\n",
    "from fastai2.basics import URLs, untar_data\n",
    "from fastai2.learner import Learner\n",
    "from fastai2.metrics import accuracy, top_k_accuracy\n",
    "from fastai2.optimizer import ranger\n",
    "from fastai2.vision.data import ImageBlock\n",
    "from fastai2.vision.augment import RandomResizedCrop, FlipItem\n",
    "from fastai2.vision.models.xresnet import xse_resnext50\n",
    "from fastai2.torch_core import num_distrib\n",
    "\n",
    "from fastai2.data.block import DataBlock, CategoryBlock\n",
    "from fastai2.data.transforms import (GrandparentSplitter, get_image_files,\n",
    "                                     parent_label)\n",
    "\n",
    "from fastcore.utils import num_cpus\n"
   ]
  },
  {
   "cell_type": "code",
   "execution_count": 146,
   "metadata": {},
   "outputs": [],
   "source": [
    "# If you use identically sized images for all inputs and your \n",
    "# network does not dynamically change, \n",
    "# this will typically lead to a faster runtime\n",
    "torch.backends.cudnn.benchmark = True\n",
    "\n",
    "fastprogress.MAX_COLS = 80"
   ]
  },
  {
   "cell_type": "code",
   "execution_count": 147,
   "metadata": {},
   "outputs": [],
   "source": [
    "# Default parameters\n",
    "gpu=None\n",
    "woof=0\n",
    "lr=1e-2\n",
    "size=128\n",
    "sqrmom=0.99\n",
    "mom=0.9\n",
    "eps=1e-6\n",
    "epochs=5\n",
    "bs=64\n",
    "mixup=0.\n",
    "opt='ranger',\n",
    "arch='xresnet50'\n",
    "sh=0.\n",
    "sa=0\n",
    "sym=0\n",
    "beta=0.\n",
    "act_fn='MishJit'\n",
    "fp16=0\n",
    "pool='AvgPool',\n",
    "dump=0\n",
    "runs=1\n",
    "meta=''"
   ]
  },
  {
   "cell_type": "code",
   "execution_count": 170,
   "metadata": {},
   "outputs": [],
   "source": [
    "# Chosen parameters\n",
    "lr=8e-3\n",
    "sqrmom=0.99\n",
    "mom=0.95\n",
    "eps=1e-6\n",
    "bs=64 \n",
    "opt='ranger'\n",
    "sa=1\n",
    "fp16=0               #NOTE: My GPU cannot run fp16 :'(\n",
    "arch='xse_resnext50' \n",
    "pool='MaxPool'\n",
    "\n",
    "gpu=0\n",
    "\n",
    "# NOTE: Normally loaded from their corresponding string\n",
    "m = xse_resnext50\n",
    "act_fn = MishJit\n",
    "pool = MaxPool\n",
    "\n",
    "runs = 3"
   ]
  },
  {
   "cell_type": "code",
   "execution_count": 162,
   "metadata": {},
   "outputs": [],
   "source": [
    "if gpu is not None: torch.cuda.set_device(gpu)\n",
    "if   opt=='adam'  : opt_func = partial(Adam, mom=mom, sqr_mom=sqrmom, eps=eps)\n",
    "elif opt=='rms'   : opt_func = partial(RMSprop, sqr_mom=sqrmom)\n",
    "elif opt=='sgd'   : opt_func = partial(SGD, mom=mom)\n",
    "elif opt=='ranger': opt_func = partial(ranger, mom=mom, sqr_mom=sqrmom, eps=eps, beta=beta)"
   ]
  },
  {
   "cell_type": "code",
   "execution_count": 163,
   "metadata": {},
   "outputs": [],
   "source": [
    "def get_dbunch(size, woof, bs, sh=0., workers=None):\n",
    "    if size<=224: path = URLs.IMAGEWOOF_320 if woof else URLs.IMAGENETTE_320\n",
    "    else        : path = URLs.IMAGEWOOF     if woof else URLs.IMAGENETTE\n",
    "    source = untar_data(path)\n",
    "    if workers is None: workers = min(8, num_cpus())\n",
    "    dblock = DataBlock(blocks=(ImageBlock, CategoryBlock),\n",
    "                       splitter=GrandparentSplitter(valid_name='val'),\n",
    "                       get_items=get_image_files, get_y=parent_label)\n",
    "    item_tfms=[RandomResizedCrop(size, min_scale=0.35), FlipItem(0.5)]\n",
    "    batch_tfms=RandomErasing(p=0.9, max_count=3, sh=sh) if sh else None\n",
    "    return dblock.databunch(source, path=source, bs=bs, num_workers=workers,\n",
    "                            item_tfms=item_tfms, batch_tfms=batch_tfms)"
   ]
  },
  {
   "cell_type": "code",
   "execution_count": 164,
   "metadata": {},
   "outputs": [
    {
     "name": "stdout",
     "output_type": "stream",
     "text": [
      "lr: 0.008; size: 128; sqrmom: 0.99; mom: 0.95; eps: 1e-06\n"
     ]
    }
   ],
   "source": [
    "dbunch = get_dbunch(size, woof, bs, sh=sh)\n",
    "if not gpu: print(f'lr: {lr}; size: {size}; sqrmom: {sqrmom}; mom: {mom}; eps: {eps}')"
   ]
  },
  {
   "cell_type": "code",
   "execution_count": 169,
   "metadata": {},
   "outputs": [
    {
     "name": "stdout",
     "output_type": "stream",
     "text": [
      "Run: 0\n"
     ]
    },
    {
     "data": {
      "text/html": [
       "<table border=\"1\" class=\"dataframe\">\n",
       "  <thead>\n",
       "    <tr style=\"text-align: left;\">\n",
       "      <th>epoch</th>\n",
       "      <th>train_loss</th>\n",
       "      <th>valid_loss</th>\n",
       "      <th>accuracy</th>\n",
       "      <th>top_k_accuracy</th>\n",
       "      <th>time</th>\n",
       "    </tr>\n",
       "  </thead>\n",
       "  <tbody>\n",
       "    <tr>\n",
       "      <td>0</td>\n",
       "      <td>1.490026</td>\n",
       "      <td>1.513487</td>\n",
       "      <td>0.583949</td>\n",
       "      <td>0.919490</td>\n",
       "      <td>00:42</td>\n",
       "    </tr>\n",
       "    <tr>\n",
       "      <td>1</td>\n",
       "      <td>1.272525</td>\n",
       "      <td>1.217710</td>\n",
       "      <td>0.722293</td>\n",
       "      <td>0.964076</td>\n",
       "      <td>00:43</td>\n",
       "    </tr>\n",
       "    <tr>\n",
       "      <td>2</td>\n",
       "      <td>1.155618</td>\n",
       "      <td>1.267024</td>\n",
       "      <td>0.684331</td>\n",
       "      <td>0.963822</td>\n",
       "      <td>00:42</td>\n",
       "    </tr>\n",
       "    <tr>\n",
       "      <td>3</td>\n",
       "      <td>1.063815</td>\n",
       "      <td>0.997159</td>\n",
       "      <td>0.814777</td>\n",
       "      <td>0.976561</td>\n",
       "      <td>00:42</td>\n",
       "    </tr>\n",
       "    <tr>\n",
       "      <td>4</td>\n",
       "      <td>0.928582</td>\n",
       "      <td>0.910660</td>\n",
       "      <td>0.844331</td>\n",
       "      <td>0.984459</td>\n",
       "      <td>00:43</td>\n",
       "    </tr>\n",
       "  </tbody>\n",
       "</table>"
      ],
      "text/plain": [
       "<IPython.core.display.HTML object>"
      ]
     },
     "metadata": {},
     "output_type": "display_data"
    },
    {
     "name": "stdout",
     "output_type": "stream",
     "text": [
      "Run: 1\n"
     ]
    },
    {
     "data": {
      "text/html": [
       "<table border=\"1\" class=\"dataframe\">\n",
       "  <thead>\n",
       "    <tr style=\"text-align: left;\">\n",
       "      <th>epoch</th>\n",
       "      <th>train_loss</th>\n",
       "      <th>valid_loss</th>\n",
       "      <th>accuracy</th>\n",
       "      <th>top_k_accuracy</th>\n",
       "      <th>time</th>\n",
       "    </tr>\n",
       "  </thead>\n",
       "  <tbody>\n",
       "    <tr>\n",
       "      <td>0</td>\n",
       "      <td>1.518349</td>\n",
       "      <td>2.063287</td>\n",
       "      <td>0.373248</td>\n",
       "      <td>0.873376</td>\n",
       "      <td>00:42</td>\n",
       "    </tr>\n",
       "    <tr>\n",
       "      <td>1</td>\n",
       "      <td>1.277532</td>\n",
       "      <td>1.157030</td>\n",
       "      <td>0.737070</td>\n",
       "      <td>0.966624</td>\n",
       "      <td>00:42</td>\n",
       "    </tr>\n",
       "    <tr>\n",
       "      <td>2</td>\n",
       "      <td>1.154442</td>\n",
       "      <td>1.365325</td>\n",
       "      <td>0.654013</td>\n",
       "      <td>0.961274</td>\n",
       "      <td>00:43</td>\n",
       "    </tr>\n",
       "    <tr>\n",
       "      <td>3</td>\n",
       "      <td>1.081808</td>\n",
       "      <td>1.023017</td>\n",
       "      <td>0.794140</td>\n",
       "      <td>0.977070</td>\n",
       "      <td>00:42</td>\n",
       "    </tr>\n",
       "    <tr>\n",
       "      <td>4</td>\n",
       "      <td>0.944801</td>\n",
       "      <td>0.917974</td>\n",
       "      <td>0.840764</td>\n",
       "      <td>0.981656</td>\n",
       "      <td>00:43</td>\n",
       "    </tr>\n",
       "  </tbody>\n",
       "</table>"
      ],
      "text/plain": [
       "<IPython.core.display.HTML object>"
      ]
     },
     "metadata": {},
     "output_type": "display_data"
    },
    {
     "name": "stdout",
     "output_type": "stream",
     "text": [
      "Run: 2\n"
     ]
    },
    {
     "data": {
      "text/html": [
       "<table border=\"1\" class=\"dataframe\">\n",
       "  <thead>\n",
       "    <tr style=\"text-align: left;\">\n",
       "      <th>epoch</th>\n",
       "      <th>train_loss</th>\n",
       "      <th>valid_loss</th>\n",
       "      <th>accuracy</th>\n",
       "      <th>top_k_accuracy</th>\n",
       "      <th>time</th>\n",
       "    </tr>\n",
       "  </thead>\n",
       "  <tbody>\n",
       "    <tr>\n",
       "      <td>0</td>\n",
       "      <td>1.542641</td>\n",
       "      <td>1.502662</td>\n",
       "      <td>0.604331</td>\n",
       "      <td>0.933248</td>\n",
       "      <td>00:43</td>\n",
       "    </tr>\n",
       "    <tr>\n",
       "      <td>1</td>\n",
       "      <td>1.292203</td>\n",
       "      <td>1.222223</td>\n",
       "      <td>0.706752</td>\n",
       "      <td>0.960510</td>\n",
       "      <td>00:43</td>\n",
       "    </tr>\n",
       "    <tr>\n",
       "      <td>2</td>\n",
       "      <td>1.158440</td>\n",
       "      <td>1.198407</td>\n",
       "      <td>0.716688</td>\n",
       "      <td>0.964841</td>\n",
       "      <td>00:42</td>\n",
       "    </tr>\n",
       "    <tr>\n",
       "      <td>3</td>\n",
       "      <td>1.084328</td>\n",
       "      <td>1.010957</td>\n",
       "      <td>0.804331</td>\n",
       "      <td>0.980382</td>\n",
       "      <td>00:43</td>\n",
       "    </tr>\n",
       "    <tr>\n",
       "      <td>4</td>\n",
       "      <td>0.929392</td>\n",
       "      <td>0.911065</td>\n",
       "      <td>0.844586</td>\n",
       "      <td>0.984968</td>\n",
       "      <td>00:43</td>\n",
       "    </tr>\n",
       "  </tbody>\n",
       "</table>"
      ],
      "text/plain": [
       "<IPython.core.display.HTML object>"
      ]
     },
     "metadata": {},
     "output_type": "display_data"
    }
   ],
   "source": [
    "for run in range(runs):\n",
    "        print(f'Run: {run}')\n",
    "        learn = Learner(dbunch, m(c_out=10, act_cls=act_fn, sa=sa, sym=sym, pool=pool), opt_func=opt_func, \\\n",
    "                metrics=[accuracy,top_k_accuracy], loss_func=LabelSmoothingCrossEntropy())\n",
    "        if dump: print(learn.model); exit()\n",
    "        if fp16: learn = learn.to_fp16()\n",
    "        cbs = MixUp(mixup) if mixup else []\n",
    "        #n_gpu = torch.cuda.device_count()\n",
    "        #if gpu is None and n_gpu: learn.to_parallel()\n",
    "        if num_distrib()>1: learn.to_distributed(gpu) # Requires `-m fastai.launch`\n",
    "        learn.fit_flat_cos(epochs, lr, wd=1e-2, cbs=cbs)"
   ]
  },
  {
   "cell_type": "markdown",
   "metadata": {},
   "source": [
    "This gives us an average of **84.3227%** which is slightly lower than what we expected (**84.71%**).\n",
    "\n",
    "One change I made was to turn off fp16 because it's not supported on my GPU. Maybe this had an effect?"
   ]
  }
 ],
 "metadata": {
  "kernelspec": {
   "display_name": "Python (fastai2)",
   "language": "python",
   "name": "fastai2"
  },
  "language_info": {
   "codemirror_mode": {
    "name": "ipython",
    "version": 3
   },
   "file_extension": ".py",
   "mimetype": "text/x-python",
   "name": "python",
   "nbconvert_exporter": "python",
   "pygments_lexer": "ipython3",
   "version": "3.7.6"
  }
 },
 "nbformat": 4,
 "nbformat_minor": 2
}
