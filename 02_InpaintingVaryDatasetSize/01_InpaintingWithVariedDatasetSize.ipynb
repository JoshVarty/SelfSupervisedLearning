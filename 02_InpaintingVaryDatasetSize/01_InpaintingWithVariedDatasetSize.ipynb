{
 "cells": [
  {
   "cell_type": "markdown",
   "metadata": {},
   "source": [
    "## Inpainting with Variable Dataset Size"
   ]
  },
  {
   "cell_type": "markdown",
   "metadata": {},
   "source": [
    "Recall that the ImageWang dataset consists of:\n",
    "\n",
    "1. A `/val` folder with 10 classes.\n",
    "2. A `/train` folder with 20 classes. \n",
    "  - There are ~125 images in each class that exists in `/val`. There are \n",
    "  - There are ~1,300 images in each class that does not exist in `/val`\n",
    "3. An `/unsup` folder with 7,750 unlabelled images."
   ]
  },
  {
   "cell_type": "markdown",
   "metadata": {},
   "source": [
    "The question we would like to answer with this notebook is:\n",
    "\n",
    "> What is the effect of dataset size during pretext training on downstream task performance?\n",
    "\n",
    "To answer this question we will consider four different datasets, each built from ImageWang.\n",
    "\n",
    "They are:\n",
    "\n",
    "1. All data in `/train`, `/unsup` and `/val`\n",
    "2. All data in `/train`, `/unsup`\n",
    "3. All data in `/train`\n",
    "4. Only Data in `/train` that has a corresponding class in `/val`"
   ]
  },
  {
   "cell_type": "code",
   "execution_count": 1,
   "metadata": {},
   "outputs": [],
   "source": [
    "import json\n",
    "\n",
    "import numpy as np\n",
    "\n",
    "from fastai2.basics import DataBlock, RandomSplitter\n",
    "\n",
    "from fastai2.vision.all import ImageBlock, PILMask, get_image_files, PILImage, imagenet_stats\n",
    "from fastai2.vision.core import get_annotations, Image, TensorBBox, TensorPoint, TensorImage\n",
    "from fastai2.vision.augment import aug_transforms, RandomResizedCrop, RandTransform\n",
    "from fastai2.vision.learner import unet_learner, unet_config\n",
    "\n",
    "from fastai2.data.transforms import Normalize\n",
    "from fastai2.data.external import download_url, URLs, untar_data\n",
    "\n",
    "from torch.nn import MSELoss\n",
    "from torchvision.models import resnet34"
   ]
  },
  {
   "cell_type": "code",
   "execution_count": null,
   "metadata": {},
   "outputs": [],
   "source": []
  }
 ],
 "metadata": {
  "kernelspec": {
   "display_name": "Python (fastai2)",
   "language": "python",
   "name": "fastai2"
  },
  "language_info": {
   "codemirror_mode": {
    "name": "ipython",
    "version": 3
   },
   "file_extension": ".py",
   "mimetype": "text/x-python",
   "name": "python",
   "nbconvert_exporter": "python",
   "pygments_lexer": "ipython3",
   "version": "3.7.6"
  }
 },
 "nbformat": 4,
 "nbformat_minor": 2
}
